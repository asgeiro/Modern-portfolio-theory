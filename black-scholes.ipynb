{
 "cells": [
  {
   "cell_type": "code",
   "execution_count": 306,
   "id": "3b972b80-3d5f-4d22-9241-348cc2ab0a93",
   "metadata": {},
   "outputs": [],
   "source": [
    "import numpy as np\n",
    "from scipy.stats import norm\n",
    "import math\n",
    "import pandas as pd\n",
    "import yfinance as yf\n",
    "import matplotlib.pyplot as plt"
   ]
  },
  {
   "cell_type": "markdown",
   "id": "8b2a37de-d26a-4998-be7d-80c47f825f7a",
   "metadata": {},
   "source": [
    "## Option pricing (Black-Scholes) calculator\n",
    "*Call option:* $C = S_0 \\cdot N(d_{1}) - K \\cdot e^{rT} \\cdot N(d_2)$\n",
    "\n",
    "*Put option:* $C = K \\cdot e^{rT} \\cdot N(d_2) - S_0 * N(d_{1})$\n",
    "\n",
    "$d_1 = \\frac{ln(\\frac{S_0}{K})+(r\\cdot\\frac{\\sigma^2}{2})\\cdot T}{\\sigma \\cdot \\sqrt{T}}$\n",
    "\n",
    "$d_2 = d_1 - \\sigma \\cdot \\sqrt{T}$\n",
    "\n",
    "$S_0$ = Current value of underlying asset\n",
    "\n",
    "$K$ = Strike price of the option\n",
    "\n",
    "$T$ = Time to experation (years)\n",
    "\n",
    "$\\sigma$ = Volatility of the underlying asset\n",
    "\n",
    "$r$ = Risk free rate\n",
    "\n",
    "$N(x)$ = Cumulative distribution function of the standard normal distribution\n"
   ]
  },
  {
   "cell_type": "code",
   "execution_count": 26,
   "id": "2a9e5a5a-cbd1-4116-a12b-d47b8fc36951",
   "metadata": {},
   "outputs": [],
   "source": [
    "def getD1(S, K, r, sigma, T):\n",
    "    return (np.log(S/K) + (r + (sigma**2) / 2) * T) / (sigma * np.sqrt(T))"
   ]
  },
  {
   "cell_type": "code",
   "execution_count": 28,
   "id": "f9dc1e34-d091-4eea-b8ee-d3678507f6af",
   "metadata": {},
   "outputs": [],
   "source": [
    "def getD2(d1, sigma, T):\n",
    "    return d1 - sigma * np.sqrt(T)"
   ]
  },
  {
   "cell_type": "code",
   "execution_count": 30,
   "id": "e6bf3270-fa7b-403a-a198-831a8065ced9",
   "metadata": {},
   "outputs": [],
   "source": [
    "def getCallOptionPrice(S, K, sigma, r, T):\n",
    "    d1 = getD1(S, K, r, sigma, T)\n",
    "    d2 = getD2(d1, sigma, T)\n",
    "    return S * norm.cdf(d1) - K * math.exp(-r*T) * norm.cdf(d2)"
   ]
  },
  {
   "cell_type": "code",
   "execution_count": 32,
   "id": "64f42c90-a4db-4496-a9be-d3dd17f89ef8",
   "metadata": {},
   "outputs": [],
   "source": [
    "def getPutOptionPrice(S, K, sigma, r, T):\n",
    "    d1 = getD1(S, K, r, sigma, T)\n",
    "    d2 = getD2(d1, sigma, T)\n",
    "    return K * math.exp(-r*T) * norm.cdf(-d2) - S * norm.cdf(-d1)"
   ]
  },
  {
   "cell_type": "code",
   "execution_count": 34,
   "id": "c1cd35ae-202b-4714-95b3-86e0463d2cf8",
   "metadata": {},
   "outputs": [
    {
     "name": "stdout",
     "output_type": "stream",
     "text": [
      "Call option price: 13.35\n",
      "Put option price: 3.71\n"
     ]
    }
   ],
   "source": [
    "S = 100 # Current value of underlying asset\n",
    "K = 95 # Strike price\n",
    "T = 1 # Years to expiry\n",
    "r = 0.05 # Risk free\n",
    "sigma = 0.2 # Volaitlity\n",
    "\n",
    "call_price = getCallOptionPrice(S, K, sigma, r, T)\n",
    "print(f\"Call option price: {call_price:.2f}\")\n",
    "put_price = getPutOptionPrice(S, K, sigma, r, T)\n",
    "print(f\"Put option price: {put_price:.2f}\")"
   ]
  },
  {
   "cell_type": "code",
   "execution_count": 59,
   "id": "6ebb56da-f5f5-44eb-bf91-ba31a87a2237",
   "metadata": {},
   "outputs": [],
   "source": [
    "ticker = 'AAPl'\n",
    "start_date = '2020-01-01'\n",
    "end_date = '2024-12-31'\n",
    "ac = 'Adj Close'"
   ]
  },
  {
   "cell_type": "code",
   "execution_count": 61,
   "id": "e67bcfb5-44d4-490d-b47e-cd41c2a97bda",
   "metadata": {},
   "outputs": [
    {
     "name": "stderr",
     "output_type": "stream",
     "text": [
      "[*********************100%***********************]  1 of 1 completed\n"
     ]
    }
   ],
   "source": [
    "df = yf.download(tickers=ticker, start=start_date, end=end_date)"
   ]
  },
  {
   "cell_type": "code",
   "execution_count": 294,
   "id": "4d819ac7-71d1-4449-b9f1-841d44a0de80",
   "metadata": {},
   "outputs": [
    {
     "name": "stdout",
     "output_type": "stream",
     "text": [
      "Volatility: 0.31664581487145316\n",
      "Risk free rate: 0.0479\n",
      "Strike price: 252.1999969482422\n",
      "Current price: 252.1999969482422\n",
      "Expiry time: 1\n"
     ]
    }
   ],
   "source": [
    "df['log_returns'] = np.log(df['Adj Close'] / df['Adj Close'].shift(1))\n",
    "vol = df['log_returns'].std() * np.sqrt(252)\n",
    "curr_price = df['Adj Close'].iloc[-1]\n",
    "risk_free = 0.0479\n",
    "strike_price = curr_price #atm\n",
    "expiry_time = 1\n",
    "print(f\"Volatility: {vol}\\nRisk free rate: {risk_free}\\nStrike price: {strike_price}\\nCurrent price: {curr_price}\\nExpiry time: {expiry_time}\")"
   ]
  },
  {
   "cell_type": "code",
   "execution_count": 296,
   "id": "af02f437-0bc7-4a54-8bf4-a2ba3655d580",
   "metadata": {},
   "outputs": [
    {
     "name": "stdout",
     "output_type": "stream",
     "text": [
      "Call option price: 37.23\n",
      "Put option price: 25.44\n"
     ]
    }
   ],
   "source": [
    "call_price = getCallOptionPrice(curr_price, strike_price, vol, risk_free, expiry_time)\n",
    "print(f\"Call option price: {call_price:.2f}\")\n",
    "put_price = getPutOptionPrice(curr_price, strike_price, vol, risk_free, expiry_time)\n",
    "print(f\"Put option price: {put_price:.2f}\")"
   ]
  },
  {
   "cell_type": "code",
   "execution_count": 330,
   "id": "fbdeeba6-52e5-4163-b767-5edc18b382ec",
   "metadata": {},
   "outputs": [],
   "source": [
    "sp_diff = [-10, -5, 0, 5, 10]\n",
    "call_prices = [getCallOptionPrice(curr_price, curr_price + x, vol, risk_free, expiry_time) for x in sp_diff]\n",
    "put_prices = [getPutOptionPrice(curr_price, curr_price + x, vol, risk_free, expiry_time) for x in sp_diff]"
   ]
  },
  {
   "cell_type": "code",
   "execution_count": 332,
   "id": "41d6ac2b-657f-41ac-84af-67581cb26e08",
   "metadata": {},
   "outputs": [
    {
     "data": {
      "image/png": "[encoded data removed]",
      "text/plain": [
       "<Figure size 800x600 with 1 Axes>"
      ]
     },
     "metadata": {},
     "output_type": "display_data"
    }
   ],
   "source": [
    "plt.figure(figsize=(8, 6))\n",
    "plt.bar(sp_diff, call_prices, color='darkblue')\n",
    "plt.bar(sp_diff, put_prices, color='darkred')\n",
    "\n",
    "plt.xlabel('Strike Price Difference (Current Price +/-)', fontsize=12)\n",
    "plt.ylabel('Call Option Price', fontsize=12)\n",
    "plt.title('Call Option Prices vs. Strike Price Differences', fontsize=14)\n",
    "plt.xticks(sp_diff)  # Set x-axis ticks to match the sp_diff values\n",
    "plt.show()"
   ]
  },
  {
   "cell_type": "code",
   "execution_count": 310,
   "id": "20503777-a59e-4028-961a-d626856626ed",
   "metadata": {},
   "outputs": [
    {
     "data": {
      "text/plain": [
       "0    42.213241\n",
       "1    34.922292\n",
       "2    37.232854\n",
       "3    34.922292\n",
       "4    32.728161\n",
       "dtype: float64"
      ]
     },
     "execution_count": 310,
     "metadata": {},
     "output_type": "execute_result"
    }
   ],
   "source": [
    "cp_series"
   ]
  },
  {
   "cell_type": "code",
   "execution_count": null,
   "id": "63becaa0-815f-448f-8307-39083f4717ce",
   "metadata": {},
   "outputs": [],
   "source": []
  }
 ],
 "metadata": {
  "kernelspec": {
   "display_name": "Python 3 (ipykernel)",
   "language": "python",
   "name": "python3"
  },
  "language_info": {
   "codemirror_mode": {
    "name": "ipython",
    "version": 3
   },
   "file_extension": ".py",
   "mimetype": "text/x-python",
   "name": "python",
   "nbconvert_exporter": "python",
   "pygments_lexer": "ipython3",
   "version": "3.12.2"
  }
 },
 "nbformat": 4,
 "nbformat_minor": 5
}
